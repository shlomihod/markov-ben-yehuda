{
 "cells": [
  {
   "cell_type": "code",
   "execution_count": 5,
   "id": "18bde0ee",
   "metadata": {},
   "outputs": [],
   "source": [
    "import re\n",
    "import json\n",
    "from pathlib import Path\n",
    "from collections import Counter, defaultdict\n",
    "from itertools import chain\n",
    "\n",
    "import pandas as pd\n",
    "\n",
    "from hebtokenizer import HebTokenizer"
   ]
  },
  {
   "cell_type": "code",
   "execution_count": 2,
   "id": "370128b9",
   "metadata": {},
   "outputs": [],
   "source": [
    "FOOTER = 'את הטקסט לעיל הפיקו מתנדבי פרויקט בן־יהודה באינטרנט.  הוא זמין תמיד בכתובת הבאה'"
   ]
  },
  {
   "cell_type": "code",
   "execution_count": 3,
   "id": "34fc1fe4",
   "metadata": {},
   "outputs": [
    {
     "name": "stderr",
     "output_type": "stream",
     "text": [
      "/Users/shlomi/Library/Caches/pypoetry/virtualenvs/markov-ben-yehuda-bS4ceNN1-py3.10/lib/python3.10/site-packages/pandas/core/indexing.py:1667: SettingWithCopyWarning: \n",
      "A value is trying to be set on a copy of a slice from a DataFrame.\n",
      "Try using .loc[row_indexer,col_indexer] = value instead\n",
      "\n",
      "See the caveats in the documentation: https://pandas.pydata.org/pandas-docs/stable/user_guide/indexing.html#returning-a-view-versus-a-copy\n",
      "  self.obj[key] = value\n",
      "/Users/shlomi/Library/Caches/pypoetry/virtualenvs/markov-ben-yehuda-bS4ceNN1-py3.10/lib/python3.10/site-packages/pandas/core/indexing.py:1773: SettingWithCopyWarning: \n",
      "A value is trying to be set on a copy of a slice from a DataFrame.\n",
      "Try using .loc[row_indexer,col_indexer] = value instead\n",
      "\n",
      "See the caveats in the documentation: https://pandas.pydata.org/pandas-docs/stable/user_guide/indexing.html#returning-a-view-versus-a-copy\n",
      "  self._setitem_single_column(ilocs[0], value, pi)\n"
     ]
    }
   ],
   "source": [
    "df = pd.read_csv('./public_domain_dump/pseudocatalogue.csv')\n",
    "\n",
    "poetry_df = df.loc[df['genre'] == 'שירה', :]\n",
    "poetry_df.loc[:,'content'] = (poetry_df['path']\n",
    "                           .apply(lambda p: Path(f'./public_domain_dump/txt_stripped/{p}.txt').read_text())\n",
    "                           .apply(lambda s: s.split(FOOTER)[0])\n",
    "                           .str.strip())\n",
    "\n",
    "poetry_df.loc[:, 'content'] = poetry_df['content'].str.replace('\\t', '\\n')\n",
    "\n",
    "# perhaps_title_text_split = poetry_df['content'].str.split('\\t', 1)\n",
    "# perhaps_valid_split = (perhaps_title_text_split.apply(len) == 2)\n",
    "\n",
    "# perhaps_title_text_split = perhaps_title_text_split[perhaps_valid_split]\n",
    "# poetry_df = poetry_df[perhaps_valid_split]\n",
    "\n",
    "# poetry_df['title'], poetry_df['text'] = perhaps_title_text_split.str[0], perhaps_title_text_split.str[1]"
   ]
  },
  {
   "cell_type": "code",
   "execution_count": 6,
   "id": "90c30353",
   "metadata": {},
   "outputs": [
    {
     "name": "stderr",
     "output_type": "stream",
     "text": [
      "/Users/shlomi/Library/Caches/pypoetry/virtualenvs/markov-ben-yehuda-bS4ceNN1-py3.10/lib/python3.10/site-packages/pandas/core/indexing.py:1667: SettingWithCopyWarning: \n",
      "A value is trying to be set on a copy of a slice from a DataFrame.\n",
      "Try using .loc[row_indexer,col_indexer] = value instead\n",
      "\n",
      "See the caveats in the documentation: https://pandas.pydata.org/pandas-docs/stable/user_guide/indexing.html#returning-a-view-versus-a-copy\n",
      "  self.obj[key] = value\n"
     ]
    }
   ],
   "source": [
    "REPL_SPACE_BETWEEN_NEWLINE = '\\n'\n",
    "RE_SPACE_BETWEEN_NEWLINE = re.compile(r'\\n[ ]+\\n')\n",
    "RE_LINES = re.compile('[\\n/]')\n",
    "RE_STANZA = re.compile('\\n{3}')\n",
    "\n",
    "def strip_filter(iterable):\n",
    "    stripped = (item.strip() for item in iterable)\n",
    "    filtered = (item for item in stripped if item)\n",
    "    return filtered\n",
    "\n",
    "def get_second(pairs):\n",
    "    first, second = zip(*pairs)\n",
    "    return second\n",
    "\n",
    "\n",
    "def tokenizer(content):\n",
    "    ht = HebTokenizer()\n",
    "    \n",
    "    content = content.replace('\\t', '')\n",
    "    content = RE_SPACE_BETWEEN_NEWLINE.sub(REPL_SPACE_BETWEEN_NEWLINE, content)\n",
    "    stanzas = strip_filter(stanza.strip() for stanza in RE_STANZA.split(content))\n",
    "    stanza_line = (strip_filter(RE_LINES.split(stanza)) for stanza in stanzas)\n",
    "\n",
    "    tokens = list_join((list_join((get_second(ht.tokenize(line)) for line in stanza), 'NEWLINE')\n",
    "              for stanza in stanza_line),'NEWSTANZA')\n",
    "    \n",
    "    return tokens\n",
    "\n",
    "\n",
    "def list_join(iterable, sep):\n",
    "    ret = []\n",
    "    for item in iterable:\n",
    "        ret.extend(item)\n",
    "        ret.append(sep)\n",
    "    return ret[:-1]\n",
    "\n",
    "\n",
    "poetry_df.loc[:, 'tokens'] = poetry_df['content'].apply(tokenizer)"
   ]
  },
  {
   "cell_type": "code",
   "execution_count": 7,
   "id": "7152f39a",
   "metadata": {},
   "outputs": [],
   "source": [
    "unigrams = Counter(chain(*poetry_df['tokens']))\n",
    "\n",
    "bigrams = defaultdict(Counter)\n",
    "\n",
    "for tokens in poetry_df['tokens']:\n",
    "    for context, word in zip(tokens, tokens[1:]):\n",
    "        bigrams[context][word] += 1"
   ]
  },
  {
   "cell_type": "code",
   "execution_count": 8,
   "id": "84d7a6c5",
   "metadata": {},
   "outputs": [],
   "source": [
    "with open('unigrams.json', 'w') as f:\n",
    "    json.dump(unigrams, f)\n",
    "    \n",
    "with open('bigrams.json', 'w') as f:\n",
    "    json.dump(bigrams, f)"
   ]
  }
 ],
 "metadata": {
  "kernelspec": {
   "display_name": "Python 3 (ipykernel)",
   "language": "python",
   "name": "python3"
  },
  "language_info": {
   "codemirror_mode": {
    "name": "ipython",
    "version": 3
   },
   "file_extension": ".py",
   "mimetype": "text/x-python",
   "name": "python",
   "nbconvert_exporter": "python",
   "pygments_lexer": "ipython3",
   "version": "3.10.0"
  }
 },
 "nbformat": 4,
 "nbformat_minor": 5
}
